{
 "cells": [
  {
   "cell_type": "markdown",
   "id": "26d4545d",
   "metadata": {},
   "source": [
    "This is my Fantasy Hockey Analyzer. The purpose of this project is to predict the fantasy hockey output of individual skaters based on stats from previous years.\n"
   ]
  },
  {
   "cell_type": "markdown",
   "id": "a29d8990",
   "metadata": {},
   "source": [
    "Section 1: Modules Used\n",
    "\n",
    "The following is a list of modules that I used and the reason why they were used:\n",
    "-os: to allow the program to read data in the repository\n",
    "-numpy: basic math operations\n",
    "-pandas: all dataframe operations/data storage/data cleaning\n",
    "-various sklearn: all machine learning operations/analysis\n",
    "\n",
    "In addition to these modules, I also have a custom module that contains helper functions that help in data cleaning/accuracy evaluation. These functions are contained in the \"my_module.py\" file in the repository. If you are interested in taking a look at these functions, they are available at https://github.com/chrisberry888/FantasyHockeyAnalyzer in the \"my_module.py\" file."
   ]
  },
  {
   "cell_type": "code",
   "execution_count": 1,
   "id": "34ca7f54",
   "metadata": {},
   "outputs": [],
   "source": [
    "#Import block\n",
    "import os\n",
    "import numpy as np\n",
    "import pandas as pd\n",
    "from sklearn.neural_network import MLPRegressor\n",
    "from sklearn.datasets import make_regression\n",
    "from sklearn.model_selection import train_test_split\n",
    "from sklearn.metrics import mean_absolute_error\n",
    "\n",
    "import my_module as mx"
   ]
  },
  {
   "cell_type": "markdown",
   "id": "a9221715",
   "metadata": {},
   "source": [
    "Section 2: Data Gathering and Cleaning\n",
    "\n",
    "The ultimate goal of this project is to predict the number of fantasy points that a given player will have in the 2022-2023 season. Different fantasy leagues have different points breakdowns, but my current league has a points breakdown as described in the \"points_dict\" variable in the following code block. For example, each player gets 5 fantasy points for a goal, 3 for an assist, and so on. Of course, this can be changed if a different league has a different points breakdown.\n",
    "\n",
    "To accomplish this all, I have gathered data from rotowire.com and moneypuck.com. The Moneypuck data contains just about every advanced stat you could think of in a variety of different situations (5-on-5, 5-on-4, etc). However, for the sake of this project we will only use their data that describes a player's output in all of their situations. The only stat we need that can't be calculated using the Moneypuck data is +/-; Rotowire has +/- available, so I'm using that dataset.\n",
    "\n",
    "Data from these sets start from the 2010-2011 season and stretch to the 2021-2022 season. All of the major data gathering and cleaning occurs in the next three code blocks.\n"
   ]
  },
  {
   "cell_type": "markdown",
   "id": "e3439153",
   "metadata": {},
   "source": [
    "The following block does all of the prep work before we start to read the data. It first establishes where the data is stored in the repository so that it can be read by the program. It then creates a list of labels that will be used by the rotowire data (the rotowire dataset is formatted differently than the moneypuck dataset, so we need to do this extra step before proceeding). It then establishes a points breakdown for each relevant stat; this is used later on to calculate fantasy points for each player."
   ]
  },
  {
   "cell_type": "code",
   "execution_count": 27,
   "id": "025360ed",
   "metadata": {},
   "outputs": [
    {
     "name": "stdout",
     "output_type": "stream",
     "text": [
      "D:\\Git_Repositories\\FantasyHockeyAnalyzer\n"
     ]
    }
   ],
   "source": [
    "#The current working directory is the main repository directory; these lines set the path to where the data is\n",
    "path = os.getcwd()\n",
    "data_path = path + '\\\\data'\n",
    "\n",
    "#This array makes it easier to format the rotowire data\n",
    "rw_labels = [\"name\", \"Team\", \"Pos\", \"Games\", \"Goals\", \"Assists\", \"Pts\", \"+/-\", \"PIM\", \"SOG\", \"GWG\", \"PP_Goals\", \"PP_Assists\", \"SH_Goals\", \"SH_Assists\", \"Hits\", \"Blocked_Shots\"]\n",
    "\n",
    "#This is the breakdown of how many fantasy points a player gets for each category\n",
    "points_dict = {\"Goals\":5, \"Assists\":3, \"+/-\":1.5, \"PIM\":-0.25, \"PP_Goals\":4, \"PP_Assists\":2, \"SH_Goals\":6, \"SH_Assists\":4, \"Faceoffs_Won\":0.25, \"Faceoffs_Lost\":-0.15, \"Hits\":0.5, \"Blocked_Shots\":0.75 }\n"
   ]
  },
  {
   "cell_type": "markdown",
   "id": "90783959",
   "metadata": {},
   "source": [
    "The following block takes all of the data in the repository and turns it into year-by-year player data. For each year from 2010 to 2021, the for-loop reads the rotowire and moneypuck data from the csv files in the repository, merges the datasets together, calculates the player's fantasy points for that season, does some formatting, then adds it to the \"yearly_player_data\" list. This list can be used later on for turning into ML-readable data."
   ]
  },
  {
   "cell_type": "code",
   "execution_count": 3,
   "id": "fdd80476",
   "metadata": {},
   "outputs": [],
   "source": [
    "#I have data from the 2010-2011 season through the 2021-2022 season.\n",
    "#By the end of this block, there will be 12 seasons-worth of data in the \"data\" variable\n",
    "yearly_player_data = []\n",
    "\n",
    "for i in range(2010, 2022):\n",
    "    new_data = []\n",
    "    \n",
    "    #Imports the rotowire and moneypuck datasets from the selected year into rdf and mdf\n",
    "    rdf = pd.read_csv(data_path + '\\\\rotowire_data\\\\rotowire{}.csv'.format(str(i)))\n",
    "    mdf = pd.read_csv(data_path + '\\\\moneypuck_data\\\\moneypuck{}.csv'.format(str(i)))\n",
    "    \n",
    "    #Formats the rotowire data\n",
    "    rdf.set_axis(rw_labels, axis=1, inplace=True)\n",
    "    rdf.drop(index=rdf.index[0], axis=0, inplace=True)\n",
    "    \n",
    "    #The Moneypuck data has information about 5-on-5, 5-on-4, 4-on-5, other, and all.\n",
    "    #For this project I'm just focused on \"all\" since I suspect it'll give me the best results.\n",
    "    mdf = mdf[mdf[\"situation\"] == \"all\"]\n",
    "    \n",
    "    #Combines the \"Name\" and \"Team\" columns (There are some players with the same name on different teams)\n",
    "    rdf[\"name\"] = rdf[\"name\"] + \"-\" + rdf[\"Team\"]\n",
    "    mdf[\"name\"] = mdf[\"name\"] + \"-\" + mdf[\"team\"]\n",
    "    \n",
    "    \n",
    "    \n",
    "    #Merges the rotowire and moneypuck dataframes\n",
    "    new_data = pd.merge(rdf, mdf, on=\"name\")\n",
    "    \n",
    "    #Changes the name of a few columns in the new dataframe\n",
    "    new_data = new_data.rename(columns={\"name\":\"Name\",\"faceoffsWon\":\"Faceoffs_Won\",\"faceoffsLost\":\"Faceoffs_Lost\"})\n",
    "    \n",
    "    #This section calculates each player's total fantasy output for that year\n",
    "    cols = new_data.columns\n",
    "    fant_points = [0 for i in range(len(new_data))]\n",
    "    for i in range(len(new_data)):\n",
    "        for j in range(len(new_data.iloc[i])):\n",
    "            mult = points_dict.get(cols[j], 0)\n",
    "            if mult != 0:\n",
    "                fant_points[i] += mult*int(new_data.iloc[i, j])\n",
    "    \n",
    "    #Adds the players' fantasy points to the new_data dataframe\n",
    "    new_data[\"Fantasy_Points\"] = fant_points\n",
    "    \n",
    "    new_data = new_data.drop_duplicates()\n",
    "    \n",
    "    #Adds new_data to the \"data\" array\n",
    "    yearly_player_data.append(new_data)\n",
    "                \n",
    "    \n",
    "\n"
   ]
  },
  {
   "cell_type": "code",
   "execution_count": 4,
   "id": "6229e116",
   "metadata": {
    "scrolled": true
   },
   "outputs": [],
   "source": [
    "#pd.options.display.max_columns = None\n",
    "#pd.options.display.max_rows = None\n",
    "#yearly_player_data[11]"
   ]
  },
  {
   "cell_type": "markdown",
   "id": "56588866",
   "metadata": {},
   "source": [
    "The following block takes the yearly data and turns it into ML-readable data. For this project, I am creating different models that use data from the past one year, the past two years, and the past three years, and seeing how much they differ in terms of efficacy."
   ]
  },
  {
   "cell_type": "code",
   "execution_count": 5,
   "id": "dc8ea883",
   "metadata": {},
   "outputs": [],
   "source": [
    "ml_data_one_year = pd.DataFrame()\n",
    "ml_data_two_year = pd.DataFrame()\n",
    "ml_data_three_year = pd.DataFrame()\n",
    "for i in range(2011, 2022):\n",
    "    arr = [yearly_player_data[i-2011]]\n",
    "    points_df = yearly_player_data[i-2010]\n",
    "    temp = mx.merge_dataframes(arr, points_df)\n",
    "    ml_data_one_year = pd.concat([ml_data_one_year, temp], ignore_index=True)\n",
    "    \n",
    "for i in range(2012, 2022):\n",
    "    arr = [yearly_player_data[i-2012], yearly_player_data[i-2011]]\n",
    "    points_df = yearly_player_data[i-2010]\n",
    "    temp = mx.merge_dataframes(arr, points_df)\n",
    "    ml_data_two_year = pd.concat([ml_data_two_year, temp], ignore_index=True)\n",
    "    \n",
    "for i in range(2013, 2022):\n",
    "    arr = [yearly_player_data[i-2013], yearly_player_data[i-2012], yearly_player_data[i-2011]]\n",
    "    points_df = yearly_player_data[i-2010]\n",
    "    temp = mx.merge_dataframes(arr, points_df)\n",
    "    ml_data_three_year = pd.concat([ml_data_three_year, temp], ignore_index=True)\n",
    "\n"
   ]
  },
  {
   "cell_type": "markdown",
   "id": "62a38065",
   "metadata": {},
   "source": [
    "ONE YEAR:"
   ]
  },
  {
   "cell_type": "code",
   "execution_count": 20,
   "id": "c588facb",
   "metadata": {},
   "outputs": [],
   "source": [
    "arr = mx.separate_fantasy_points(ml_data_one_year)\n",
    "X = mx.reformat_df(arr[0])\n",
    "y = arr[1]\n",
    "\n",
    "X_train_one, X_test_one, y_train_one, y_test_one = train_test_split(X, y, random_state=1)\n",
    "\n",
    "one_year_regr = MLPRegressor().fit(X_train_one, y_train_one)\n"
   ]
  },
  {
   "cell_type": "markdown",
   "id": "f0cb743c",
   "metadata": {},
   "source": [
    "TWO YEAR:"
   ]
  },
  {
   "cell_type": "code",
   "execution_count": 21,
   "id": "edd87cef",
   "metadata": {},
   "outputs": [],
   "source": [
    "arr = mx.separate_fantasy_points(ml_data_two_year)\n",
    "X = mx.reformat_df(arr[0])\n",
    "y = arr[1]\n",
    "\n",
    "X_train_two, X_test_two, y_train_two, y_test_two = train_test_split(X, y, random_state=1)\n",
    "\n",
    "two_year_regr = MLPRegressor(max_iter=500).fit(X_train_two, y_train_two)\n",
    "\n"
   ]
  },
  {
   "cell_type": "markdown",
   "id": "e250362b",
   "metadata": {},
   "source": [
    "THREE YEAR:"
   ]
  },
  {
   "cell_type": "code",
   "execution_count": 22,
   "id": "cd0036bb",
   "metadata": {},
   "outputs": [],
   "source": [
    "arr = mx.separate_fantasy_points(ml_data_three_year)\n",
    "X = mx.reformat_df(arr[0])\n",
    "y = arr[1]\n",
    "\n",
    "X_train_three, X_test_three, y_train_three, y_test_three = train_test_split(X, y, random_state=1)\n",
    "\n",
    "three_year_regr = MLPRegressor(max_iter=500).fit(X_train_three, y_train_three)\n",
    "\n"
   ]
  },
  {
   "cell_type": "markdown",
   "id": "9867211c",
   "metadata": {},
   "source": [
    "ANALYSIS:"
   ]
  },
  {
   "cell_type": "code",
   "execution_count": 23,
   "id": "ba4d2c62",
   "metadata": {},
   "outputs": [
    {
     "name": "stdout",
     "output_type": "stream",
     "text": [
      "81.39743988050087\n",
      "79.91442467133213\n",
      "88.29785892655995\n"
     ]
    }
   ],
   "source": [
    "y_pred = one_year_regr.predict(X_test_one)\n",
    "\n",
    "print(mean_absolute_error(y_test_one, y_pred))\n",
    "\n",
    "y_pred = two_year_regr.predict(X_test_two)\n",
    "\n",
    "print(mean_absolute_error(y_test_two, y_pred))\n",
    "\n",
    "y_pred = three_year_regr.predict(X_test_three)\n",
    "\n",
    "print(mean_absolute_error(y_test_three, y_pred))"
   ]
  },
  {
   "cell_type": "markdown",
   "id": "1a3d5307",
   "metadata": {},
   "source": [
    "PREDICTIONS:"
   ]
  },
  {
   "cell_type": "code",
   "execution_count": 24,
   "id": "4b744e70",
   "metadata": {},
   "outputs": [
    {
     "data": {
      "text/html": [
       "<div>\n",
       "<style scoped>\n",
       "    .dataframe tbody tr th:only-of-type {\n",
       "        vertical-align: middle;\n",
       "    }\n",
       "\n",
       "    .dataframe tbody tr th {\n",
       "        vertical-align: top;\n",
       "    }\n",
       "\n",
       "    .dataframe thead th {\n",
       "        text-align: right;\n",
       "    }\n",
       "</style>\n",
       "<table border=\"1\" class=\"dataframe\">\n",
       "  <thead>\n",
       "    <tr style=\"text-align: right;\">\n",
       "      <th></th>\n",
       "      <th>Name</th>\n",
       "      <th>Prediction</th>\n",
       "    </tr>\n",
       "  </thead>\n",
       "  <tbody>\n",
       "    <tr>\n",
       "      <th>48</th>\n",
       "      <td>Auston Matthews-TOR</td>\n",
       "      <td>551.293859</td>\n",
       "    </tr>\n",
       "    <tr>\n",
       "      <th>37</th>\n",
       "      <td>Nathan MacKinnon-COL</td>\n",
       "      <td>526.463437</td>\n",
       "    </tr>\n",
       "    <tr>\n",
       "      <th>62</th>\n",
       "      <td>Leon Draisaitl-EDM</td>\n",
       "      <td>505.839201</td>\n",
       "    </tr>\n",
       "    <tr>\n",
       "      <th>8</th>\n",
       "      <td>Mikko Rantanen-COL</td>\n",
       "      <td>484.299331</td>\n",
       "    </tr>\n",
       "    <tr>\n",
       "      <th>18</th>\n",
       "      <td>Connor McDavid-EDM</td>\n",
       "      <td>475.067723</td>\n",
       "    </tr>\n",
       "    <tr>\n",
       "      <th>...</th>\n",
       "      <td>...</td>\n",
       "      <td>...</td>\n",
       "    </tr>\n",
       "    <tr>\n",
       "      <th>238</th>\n",
       "      <td>Walker Duehr-CGY</td>\n",
       "      <td>22.240577</td>\n",
       "    </tr>\n",
       "    <tr>\n",
       "      <th>285</th>\n",
       "      <td>Alex Steeves-TOR</td>\n",
       "      <td>21.823438</td>\n",
       "    </tr>\n",
       "    <tr>\n",
       "      <th>220</th>\n",
       "      <td>Kyle Criscuolo-DET</td>\n",
       "      <td>18.806423</td>\n",
       "    </tr>\n",
       "    <tr>\n",
       "      <th>243</th>\n",
       "      <td>Ben McCartney-ARI</td>\n",
       "      <td>7.469042</td>\n",
       "    </tr>\n",
       "    <tr>\n",
       "      <th>306</th>\n",
       "      <td>Bokondji Imama-ARI</td>\n",
       "      <td>-0.726336</td>\n",
       "    </tr>\n",
       "  </tbody>\n",
       "</table>\n",
       "<p>511 rows × 2 columns</p>\n",
       "</div>"
      ],
      "text/plain": [
       "                     Name  Prediction\n",
       "48    Auston Matthews-TOR  551.293859\n",
       "37   Nathan MacKinnon-COL  526.463437\n",
       "62     Leon Draisaitl-EDM  505.839201\n",
       "8      Mikko Rantanen-COL  484.299331\n",
       "18     Connor McDavid-EDM  475.067723\n",
       "..                    ...         ...\n",
       "238      Walker Duehr-CGY   22.240577\n",
       "285      Alex Steeves-TOR   21.823438\n",
       "220    Kyle Criscuolo-DET   18.806423\n",
       "243     Ben McCartney-ARI    7.469042\n",
       "306    Bokondji Imama-ARI   -0.726336\n",
       "\n",
       "[511 rows x 2 columns]"
      ]
     },
     "metadata": {},
     "output_type": "display_data"
    }
   ],
   "source": [
    "one_year_pred = yearly_player_data[11].copy()\n",
    "one_year_pred.drop(columns=[\"Fantasy_Points\"], inplace=True)\n",
    "one_year_df = mx.get_name_predictions(one_year_regr, one_year_pred)\n",
    "one_year_df.sort_values(by=\"Prediction\", ascending=False, inplace=True)\n",
    "#pd.options.display.max_rows = 978\n",
    "display(one_year_df)\n"
   ]
  },
  {
   "cell_type": "code",
   "execution_count": 25,
   "id": "94dc5374",
   "metadata": {},
   "outputs": [
    {
     "data": {
      "text/html": [
       "<div>\n",
       "<style scoped>\n",
       "    .dataframe tbody tr th:only-of-type {\n",
       "        vertical-align: middle;\n",
       "    }\n",
       "\n",
       "    .dataframe tbody tr th {\n",
       "        vertical-align: top;\n",
       "    }\n",
       "\n",
       "    .dataframe thead th {\n",
       "        text-align: right;\n",
       "    }\n",
       "</style>\n",
       "<table border=\"1\" class=\"dataframe\">\n",
       "  <thead>\n",
       "    <tr style=\"text-align: right;\">\n",
       "      <th></th>\n",
       "      <th>Name</th>\n",
       "      <th>Prediction</th>\n",
       "    </tr>\n",
       "  </thead>\n",
       "  <tbody>\n",
       "    <tr>\n",
       "      <th>0</th>\n",
       "      <td>Auston Matthews-TOR</td>\n",
       "      <td>376.388747</td>\n",
       "    </tr>\n",
       "    <tr>\n",
       "      <th>7</th>\n",
       "      <td>Aleksander Barkov-FLA</td>\n",
       "      <td>355.721895</td>\n",
       "    </tr>\n",
       "    <tr>\n",
       "      <th>3</th>\n",
       "      <td>Mikko Rantanen-COL</td>\n",
       "      <td>346.688344</td>\n",
       "    </tr>\n",
       "    <tr>\n",
       "      <th>21</th>\n",
       "      <td>Nathan MacKinnon-COL</td>\n",
       "      <td>340.625996</td>\n",
       "    </tr>\n",
       "    <tr>\n",
       "      <th>1</th>\n",
       "      <td>Connor McDavid-EDM</td>\n",
       "      <td>339.737278</td>\n",
       "    </tr>\n",
       "    <tr>\n",
       "      <th>...</th>\n",
       "      <td>...</td>\n",
       "      <td>...</td>\n",
       "    </tr>\n",
       "    <tr>\n",
       "      <th>213</th>\n",
       "      <td>Chris Wagner-BOS</td>\n",
       "      <td>80.802291</td>\n",
       "    </tr>\n",
       "    <tr>\n",
       "      <th>163</th>\n",
       "      <td>Anders Bjork-BUF</td>\n",
       "      <td>74.913007</td>\n",
       "    </tr>\n",
       "    <tr>\n",
       "      <th>248</th>\n",
       "      <td>Slater Koekkoek-EDM</td>\n",
       "      <td>69.799831</td>\n",
       "    </tr>\n",
       "    <tr>\n",
       "      <th>262</th>\n",
       "      <td>Joseph Cramarossa-MIN</td>\n",
       "      <td>64.194616</td>\n",
       "    </tr>\n",
       "    <tr>\n",
       "      <th>253</th>\n",
       "      <td>Guillaume Brisebois-VAN</td>\n",
       "      <td>62.897036</td>\n",
       "    </tr>\n",
       "  </tbody>\n",
       "</table>\n",
       "<p>299 rows × 2 columns</p>\n",
       "</div>"
      ],
      "text/plain": [
       "                        Name  Prediction\n",
       "0        Auston Matthews-TOR  376.388747\n",
       "7      Aleksander Barkov-FLA  355.721895\n",
       "3         Mikko Rantanen-COL  346.688344\n",
       "21      Nathan MacKinnon-COL  340.625996\n",
       "1         Connor McDavid-EDM  339.737278\n",
       "..                       ...         ...\n",
       "213         Chris Wagner-BOS   80.802291\n",
       "163         Anders Bjork-BUF   74.913007\n",
       "248      Slater Koekkoek-EDM   69.799831\n",
       "262    Joseph Cramarossa-MIN   64.194616\n",
       "253  Guillaume Brisebois-VAN   62.897036\n",
       "\n",
       "[299 rows x 2 columns]"
      ]
     },
     "metadata": {},
     "output_type": "display_data"
    }
   ],
   "source": [
    "two_year_pred = [yearly_player_data[i] for i in [10,11]]\n",
    "two_year_pred = mx.merge_dataframes(two_year_pred, yearly_player_data[11])\n",
    "two_year_pred.drop(columns=[\"Predicted_Fantasy_Points\"], inplace=True)\n",
    "two_year_df = mx.get_name_predictions(two_year_regr, two_year_pred)\n",
    "two_year_df.sort_values(by=\"Prediction\", ascending=False, inplace=True)\n",
    "#pd.options.display.max_rows = 978\n",
    "display(two_year_df)"
   ]
  },
  {
   "cell_type": "code",
   "execution_count": 26,
   "id": "fc034486",
   "metadata": {},
   "outputs": [
    {
     "data": {
      "text/html": [
       "<div>\n",
       "<style scoped>\n",
       "    .dataframe tbody tr th:only-of-type {\n",
       "        vertical-align: middle;\n",
       "    }\n",
       "\n",
       "    .dataframe tbody tr th {\n",
       "        vertical-align: top;\n",
       "    }\n",
       "\n",
       "    .dataframe thead th {\n",
       "        text-align: right;\n",
       "    }\n",
       "</style>\n",
       "<table border=\"1\" class=\"dataframe\">\n",
       "  <thead>\n",
       "    <tr style=\"text-align: right;\">\n",
       "      <th></th>\n",
       "      <th>Name</th>\n",
       "      <th>Prediction</th>\n",
       "    </tr>\n",
       "  </thead>\n",
       "  <tbody>\n",
       "    <tr>\n",
       "      <th>1</th>\n",
       "      <td>Auston Matthews-TOR</td>\n",
       "      <td>334.881157</td>\n",
       "    </tr>\n",
       "    <tr>\n",
       "      <th>7</th>\n",
       "      <td>Connor McDavid-EDM</td>\n",
       "      <td>292.140882</td>\n",
       "    </tr>\n",
       "    <tr>\n",
       "      <th>6</th>\n",
       "      <td>Nathan MacKinnon-COL</td>\n",
       "      <td>290.934507</td>\n",
       "    </tr>\n",
       "    <tr>\n",
       "      <th>2</th>\n",
       "      <td>Leon Draisaitl-EDM</td>\n",
       "      <td>286.964859</td>\n",
       "    </tr>\n",
       "    <tr>\n",
       "      <th>41</th>\n",
       "      <td>Aleksander Barkov-FLA</td>\n",
       "      <td>286.447841</td>\n",
       "    </tr>\n",
       "    <tr>\n",
       "      <th>...</th>\n",
       "      <td>...</td>\n",
       "      <td>...</td>\n",
       "    </tr>\n",
       "    <tr>\n",
       "      <th>190</th>\n",
       "      <td>Niko Mikkola-STL</td>\n",
       "      <td>87.971259</td>\n",
       "    </tr>\n",
       "    <tr>\n",
       "      <th>161</th>\n",
       "      <td>Michael Stone-CGY</td>\n",
       "      <td>87.148655</td>\n",
       "    </tr>\n",
       "    <tr>\n",
       "      <th>187</th>\n",
       "      <td>Dylan DeMelo-WPG</td>\n",
       "      <td>83.265318</td>\n",
       "    </tr>\n",
       "    <tr>\n",
       "      <th>199</th>\n",
       "      <td>Tim Gettinger-NYR</td>\n",
       "      <td>74.938228</td>\n",
       "    </tr>\n",
       "    <tr>\n",
       "      <th>165</th>\n",
       "      <td>Robert Bortuzzo-STL</td>\n",
       "      <td>62.452979</td>\n",
       "    </tr>\n",
       "  </tbody>\n",
       "</table>\n",
       "<p>205 rows × 2 columns</p>\n",
       "</div>"
      ],
      "text/plain": [
       "                      Name  Prediction\n",
       "1      Auston Matthews-TOR  334.881157\n",
       "7       Connor McDavid-EDM  292.140882\n",
       "6     Nathan MacKinnon-COL  290.934507\n",
       "2       Leon Draisaitl-EDM  286.964859\n",
       "41   Aleksander Barkov-FLA  286.447841\n",
       "..                     ...         ...\n",
       "190       Niko Mikkola-STL   87.971259\n",
       "161      Michael Stone-CGY   87.148655\n",
       "187       Dylan DeMelo-WPG   83.265318\n",
       "199      Tim Gettinger-NYR   74.938228\n",
       "165    Robert Bortuzzo-STL   62.452979\n",
       "\n",
       "[205 rows x 2 columns]"
      ]
     },
     "metadata": {},
     "output_type": "display_data"
    }
   ],
   "source": [
    "three_year_pred = [yearly_player_data[i] for i in [9,10,11]]\n",
    "three_year_pred = mx.merge_dataframes(three_year_pred, yearly_player_data[11])\n",
    "three_year_pred.drop(columns=[\"Predicted_Fantasy_Points\"], inplace=True)\n",
    "three_year_df = mx.get_name_predictions(three_year_regr, three_year_pred)\n",
    "three_year_df.sort_values(by=\"Prediction\", ascending=False, inplace=True)\n",
    "#pd.options.display.max_rows = 978\n",
    "display(three_year_df)"
   ]
  },
  {
   "cell_type": "code",
   "execution_count": 13,
   "id": "f4ac4eb9",
   "metadata": {},
   "outputs": [
    {
     "data": {
      "text/plain": [
       "False"
      ]
     },
     "execution_count": 13,
     "metadata": {},
     "output_type": "execute_result"
    }
   ],
   "source": [
    "mx.check_duplicate_names(yearly_player_data[11])"
   ]
  },
  {
   "cell_type": "markdown",
   "id": "1a62a598",
   "metadata": {},
   "source": [
    "ACKNOWLEDGEMENTS:\n",
    "\n",
    "Thank you to Rotowire and Moneypuck for making your NHL data easy for someone like me to utilize in a project like this, and thank you to Peter Tanner of Moneypuck not just for creating such a valuable resource, but for being responsive to questions I was having about your dataset."
   ]
  }
 ],
 "metadata": {
  "kernelspec": {
   "display_name": "Python 3 (ipykernel)",
   "language": "python",
   "name": "python3"
  },
  "language_info": {
   "codemirror_mode": {
    "name": "ipython",
    "version": 3
   },
   "file_extension": ".py",
   "mimetype": "text/x-python",
   "name": "python",
   "nbconvert_exporter": "python",
   "pygments_lexer": "ipython3",
   "version": "3.9.7"
  }
 },
 "nbformat": 4,
 "nbformat_minor": 5
}
