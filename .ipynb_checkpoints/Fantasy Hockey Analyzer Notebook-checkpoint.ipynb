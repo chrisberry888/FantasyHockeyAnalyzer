{
 "cells": [
  {
   "cell_type": "markdown",
   "id": "d1426d8e",
   "metadata": {},
   "source": [
    "FIRST DRAFT: I won't think much of the markdown until I'm done.\n",
    "\n",
    "This is my Fantasy Hockey Analyzer. The purpose of this project is to predict the fantasy hockey output of individual skaters based on stats from previous years."
   ]
  },
  {
   "cell_type": "code",
   "execution_count": 2,
   "id": "d928b191",
   "metadata": {},
   "outputs": [],
   "source": [
    "#Import block\n",
    "import os\n",
    "import numpy as np\n",
    "import pandas as pd"
   ]
  },
  {
   "cell_type": "code",
   "execution_count": 57,
   "id": "0363d91e",
   "metadata": {
    "scrolled": true
   },
   "outputs": [],
   "source": [
    "#The current working directory is the main repository directory; these lines set the path to where the data is\n",
    "path = os.getcwd()\n",
    "data_path = path + '\\\\data'\n",
    "    \n",
    "rw_labels = [\"name\", \"Team\", \"Pos\", \"Games\", \"Goals\", \"Assists\", \"Pts\", \"+/-\", \"PIM\", \"SOG\", \"GWG\", \"PP_Goals\", \"PP_Assists\", \"SH_Goals\", \"SH_Assists\", \"Hits\", \"Blocked_Shots\"]\n",
    "\n",
    "#This is the breakdown of how many fantasy points a player gets for each category\n",
    "points_dict = {\"Goals\":5, \"Assists\":3, \"+/-\":1.5, \"PIM\":-0.25, \"PP_Goals\":4, \"PP_Assists\":2, \"SH_Goals\":6, \"SH_Assists\":4, \"Faceoffs_Won\":0.25, \"Faceoffs_Lost\":-0.15, \"Hits\":0.5, \"Blocked_Shots\":0.75 }\n"
   ]
  },
  {
   "cell_type": "code",
   "execution_count": 58,
   "id": "756395c7",
   "metadata": {
    "scrolled": false
   },
   "outputs": [
    {
     "name": "stdout",
     "output_type": "stream",
     "text": [
      "12\n"
     ]
    }
   ],
   "source": [
    "#I have data from the 2010-2011 season through the 2021-2022 season.\n",
    "data = []\n",
    "for i in range(2010, 2022):\n",
    "    new_data = []\n",
    "    rdf = pd.read_csv(data_path + '\\\\rotowire_data\\\\rotowire{}.csv'.format(str(i)))\n",
    "    mdf = pd.read_csv(data_path + '\\\\moneypuck_data\\\\moneypuck{}.csv'.format(str(i)))\n",
    "    rdf.set_axis(rw_labels, axis=1, inplace=True)\n",
    "    rdf.drop(index=rdf.index[0], axis=0, inplace=True)\n",
    "    mdf = mdf[mdf[\"situation\"] == \"all\"]\n",
    "    new_data = pd.merge(rdf, mdf, on=\"name\")\n",
    "    \n",
    "    new_data = new_data.rename(columns={\"name\":\"Name\",\"faceoffsWon\":\"Faceoffs_Won\",\"faceoffsLost\":\"Faceoffs_Lost\"})\n",
    "    cols = new_data.columns\n",
    "    fant_points = [0 for i in range(len(new_data))]\n",
    "    for i in range(len(new_data)):\n",
    "        \n",
    "        for j in range(len(new_data.iloc[i])):\n",
    "            mult = points_dict.get(cols[j], 0)\n",
    "            if mult != 0:\n",
    "                fant_points[i] += mult*int(new_data.iloc[i, j])\n",
    "    \n",
    "    new_data[\"Fantasy_Points\"] = fant_points\n",
    "    \n",
    "    data.append(new_data)\n",
    "                \n",
    "    \n",
    "\n",
    "print(len(data))"
   ]
  },
  {
   "cell_type": "code",
   "execution_count": 50,
   "id": "cd3a95a2",
   "metadata": {
    "scrolled": false
   },
   "outputs": [
    {
     "name": "stdout",
     "output_type": "stream",
     "text": [
      "Name    Aleksander Barkov\n",
      "Name: 10, dtype: object\n",
      "[649.4, 562.25, 625.6, 323.75, 245.75, 317.4, 297.75, 252.25, 409.35, 449.0]\n"
     ]
    }
   ],
   "source": [
    "print(new_data.loc[:, [\"Name\"]].iloc[10])\n",
    "print(fant_points[10:20])"
   ]
  },
  {
   "cell_type": "code",
   "execution_count": null,
   "id": "2b11ddc0",
   "metadata": {
    "scrolled": false
   },
   "outputs": [],
   "source": []
  },
  {
   "cell_type": "code",
   "execution_count": null,
   "id": "ce106fe8",
   "metadata": {},
   "outputs": [],
   "source": []
  }
 ],
 "metadata": {
  "kernelspec": {
   "display_name": "Python 3 (ipykernel)",
   "language": "python",
   "name": "python3"
  },
  "language_info": {
   "codemirror_mode": {
    "name": "ipython",
    "version": 3
   },
   "file_extension": ".py",
   "mimetype": "text/x-python",
   "name": "python",
   "nbconvert_exporter": "python",
   "pygments_lexer": "ipython3",
   "version": "3.9.7"
  }
 },
 "nbformat": 4,
 "nbformat_minor": 5
}
