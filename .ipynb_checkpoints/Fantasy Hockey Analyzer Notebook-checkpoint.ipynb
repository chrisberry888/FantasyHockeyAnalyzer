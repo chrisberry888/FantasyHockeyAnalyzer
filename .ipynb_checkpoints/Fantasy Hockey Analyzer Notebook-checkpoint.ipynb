{
 "cells": [
  {
   "cell_type": "markdown",
   "id": "d1426d8e",
   "metadata": {},
   "source": [
    "FIRST DRAFT: I won't think much of the markdown until I'm done.\n",
    "\n",
    "This is my Fantasy Hockey Analyzer. The purpose of this project is to predict the fantasy hockey output of individual skaters based on stats from previous years."
   ]
  },
  {
   "cell_type": "code",
   "execution_count": 2,
   "id": "d928b191",
   "metadata": {},
   "outputs": [],
   "source": [
    "#Import block\n",
    "import os\n",
    "import numpy as np\n",
    "import pandas as pd"
   ]
  },
  {
   "cell_type": "code",
   "execution_count": 57,
   "id": "0363d91e",
   "metadata": {
    "scrolled": true
   },
   "outputs": [],
   "source": [
    "#The current working directory is the main repository directory; these lines set the path to where the data is\n",
    "path = os.getcwd()\n",
    "data_path = path + '\\\\data'\n",
    "\n",
    "#This array makes it easier to format the rotowire data\n",
    "rw_labels = [\"name\", \"Team\", \"Pos\", \"Games\", \"Goals\", \"Assists\", \"Pts\", \"+/-\", \"PIM\", \"SOG\", \"GWG\", \"PP_Goals\", \"PP_Assists\", \"SH_Goals\", \"SH_Assists\", \"Hits\", \"Blocked_Shots\"]\n",
    "\n",
    "#This is the breakdown of how many fantasy points a player gets for each category\n",
    "points_dict = {\"Goals\":5, \"Assists\":3, \"+/-\":1.5, \"PIM\":-0.25, \"PP_Goals\":4, \"PP_Assists\":2, \"SH_Goals\":6, \"SH_Assists\":4, \"Faceoffs_Won\":0.25, \"Faceoffs_Lost\":-0.15, \"Hits\":0.5, \"Blocked_Shots\":0.75 }\n"
   ]
  },
  {
   "cell_type": "code",
   "execution_count": 58,
   "id": "756395c7",
   "metadata": {
    "scrolled": false
   },
   "outputs": [
    {
     "name": "stdout",
     "output_type": "stream",
     "text": [
      "12\n"
     ]
    }
   ],
   "source": [
    "#I have data from the 2010-2011 season through the 2021-2022 season.\n",
    "#By the end of this block, there will be 12 seasons-worth of data in the \"data\" variable\n",
    "data = []\n",
    "\n",
    "for i in range(2010, 2022):\n",
    "    new_data = []\n",
    "    \n",
    "    #Imports the rotowire and moneypuck datasets from the selected year into rdf and mdf\n",
    "    rdf = pd.read_csv(data_path + '\\\\rotowire_data\\\\rotowire{}.csv'.format(str(i)))\n",
    "    mdf = pd.read_csv(data_path + '\\\\moneypuck_data\\\\moneypuck{}.csv'.format(str(i)))\n",
    "    \n",
    "    #Formats the rotowire data\n",
    "    rdf.set_axis(rw_labels, axis=1, inplace=True)\n",
    "    rdf.drop(index=rdf.index[0], axis=0, inplace=True)\n",
    "    \n",
    "    #The Moneypuck data has information about 5-on-5, 5-on-4, 4-on-5, other, and all.\n",
    "    #For this project I'm just focused on \"all\" since I suspect it'll give me the best results.\n",
    "    mdf = mdf[mdf[\"situation\"] == \"all\"]\n",
    "    \n",
    "    #Merges the rotowire and moneypuck dataframes\n",
    "    new_data = pd.merge(rdf, mdf, on=\"name\")\n",
    "    \n",
    "    #Changes the name of a few columns in the new dataframe\n",
    "    new_data = new_data.rename(columns={\"name\":\"Name\",\"faceoffsWon\":\"Faceoffs_Won\",\"faceoffsLost\":\"Faceoffs_Lost\"})\n",
    "    \n",
    "    #This section calculates each player's total fantasy output for that year\n",
    "    cols = new_data.columns\n",
    "    fant_points = [0 for i in range(len(new_data))]\n",
    "    for i in range(len(new_data)):\n",
    "        for j in range(len(new_data.iloc[i])):\n",
    "            mult = points_dict.get(cols[j], 0)\n",
    "            if mult != 0:\n",
    "                fant_points[i] += mult*int(new_data.iloc[i, j])\n",
    "    \n",
    "    #Adds the players' fantasy points to the new_data dataframe\n",
    "    new_data[\"Fantasy_Points\"] = fant_points\n",
    "    \n",
    "    #Adds new_data to the \"data\" array\n",
    "    data.append(new_data)\n",
    "                \n",
    "    \n",
    "\n"
   ]
  },
  {
   "cell_type": "code",
   "execution_count": 50,
   "id": "cd3a95a2",
   "metadata": {
    "scrolled": false
   },
   "outputs": [
    {
     "name": "stdout",
     "output_type": "stream",
     "text": [
      "Name    Aleksander Barkov\n",
      "Name: 10, dtype: object\n",
      "[649.4, 562.25, 625.6, 323.75, 245.75, 317.4, 297.75, 252.25, 409.35, 449.0]\n"
     ]
    }
   ],
   "source": []
  },
  {
   "cell_type": "code",
   "execution_count": null,
   "id": "2b11ddc0",
   "metadata": {
    "scrolled": false
   },
   "outputs": [],
   "source": []
  },
  {
   "cell_type": "code",
   "execution_count": null,
   "id": "ce106fe8",
   "metadata": {},
   "outputs": [],
   "source": []
  }
 ],
 "metadata": {
  "kernelspec": {
   "display_name": "Python 3 (ipykernel)",
   "language": "python",
   "name": "python3"
  },
  "language_info": {
   "codemirror_mode": {
    "name": "ipython",
    "version": 3
   },
   "file_extension": ".py",
   "mimetype": "text/x-python",
   "name": "python",
   "nbconvert_exporter": "python",
   "pygments_lexer": "ipython3",
   "version": "3.9.7"
  }
 },
 "nbformat": 4,
 "nbformat_minor": 5
}
