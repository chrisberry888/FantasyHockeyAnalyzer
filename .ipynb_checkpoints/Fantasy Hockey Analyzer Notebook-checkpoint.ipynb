{
 "cells": [
  {
   "cell_type": "markdown",
   "id": "4822554e",
   "metadata": {},
   "source": [
    "FIRST DRAFT: I won't think much of the markdown until I'm done.\n",
    "\n",
    "This is my Fantasy Hockey Analyzer. The purpose of this project is to predict the fantasy hockey output of individual skaters based on stats from previous years."
   ]
  },
  {
   "cell_type": "code",
   "execution_count": null,
   "id": "45fbd22c",
   "metadata": {},
   "outputs": [],
   "source": [
    "#Import block\n",
    "import os\n",
    "import numpy as np\n",
    "import pandas as pd"
   ]
  },
  {
   "cell_type": "code",
   "execution_count": null,
   "id": "05b8bb2f",
   "metadata": {},
   "outputs": [],
   "source": [
    "#Changes the working directory to the main repository directory\n",
    "os.chdir(os.path.dirname(os.path.abspath(__file__)))\n",
    "\n",
    "#Puts player data csv into \"df\" dataframe variable\n",
    "path = os.getcwd()\n",
    "data_path = path + '\\\\data'\n",
    "df = pd.read_csv(data_path + '\\\\rotowire_data\\\\rotowire2021.csv')\n",
    "    \n",
    "rw_labels = [\"Player Name\", \"Team\", \"Pos\", \"Games\", \"Goals\", \"Assists\", \"Pts\", \"+/-\", \"PIM\", \"SOG\", \"GWG\", \"PP_Goals\", \"PP_Assists\", \"SH_Goals\", \"SH_Assists\", \"Hits\", \"Blocked_Shots\"]\n",
    "df.set_axis(rw_labels, axis=1, inplace=True)\n",
    "df.drop(index=df.index[0], axis=0, inplace=True)\n",
    "\n",
    "fantasy_points = [0 for i in range(len(df))]\n",
    "\n",
    "points_dict = [ ]\n"
   ]
  }
 ],
 "metadata": {
  "kernelspec": {
   "display_name": "Python 3 (ipykernel)",
   "language": "python",
   "name": "python3"
  },
  "language_info": {
   "codemirror_mode": {
    "name": "ipython",
    "version": 3
   },
   "file_extension": ".py",
   "mimetype": "text/x-python",
   "name": "python",
   "nbconvert_exporter": "python",
   "pygments_lexer": "ipython3",
   "version": "3.9.7"
  }
 },
 "nbformat": 4,
 "nbformat_minor": 5
}
