{
 "cells": [
  {
   "cell_type": "markdown",
   "id": "d0c502d2",
   "metadata": {},
   "source": [
    "This is version 2 of my Fantasy Hockey Analyzer. The purpose of this notebook is to predict the number of fantasy points every hockey player in the league will get based on previous years' performance."
   ]
  },
  {
   "cell_type": "markdown",
   "id": "e0c7479c",
   "metadata": {},
   "source": [
    "This notebook primarily uses data from moneypuck.com for analysis, and it also uses data from rotowire.com to get +/- for each player."
   ]
  },
  {
   "cell_type": "markdown",
   "id": "086e2128",
   "metadata": {},
   "source": [
    "Section 1: Parameters and Modules\n",
    "\n",
    "These are the variables that can be adjusted. My model is an ensemble model consisting of neural nets and random forests, with data going back one, two, and three years."
   ]
  },
  {
   "cell_type": "code",
   "execution_count": 1,
   "id": "caaf64fa",
   "metadata": {},
   "outputs": [],
   "source": [
    "# Set these values to the appropriate ammonts\n",
    "\n",
    "current_year = 2025\n",
    "common_number = 100\n",
    "number_of_one_year_neural_nets = common_number\n",
    "number_of_two_year_neural_nets = common_number\n",
    "number_of_three_year_neural_nets = common_number\n",
    "number_of_one_year_random_forests = common_number\n",
    "number_of_two_year_random_forests = common_number\n",
    "number_of_three_year_random_forests = common_number\n",
    "\n",
    "# This is the breakdown of how many fantasy points a player gets for each category\n",
    "points_dictionary = {\n",
    "    'Goals':5, \n",
    "    'Assists':3, \n",
    "    '+/-':1.5, \n",
    "    'PIM':-0.25, \n",
    "    'PP_Goals':4, \n",
    "    'PP_Assists':2, \n",
    "    'SH_Goals':6, #won't count SHG from 5-on-3\n",
    "    'SH_Assists':4, \n",
    "    'Faceoffs_Won':0.25, \n",
    "    'Faceoffs_Lost':-0.15, \n",
    "    'Hits':0.5, \n",
    "    'Blocked_Shots':0.75\n",
    "    }"
   ]
  },
  {
   "cell_type": "markdown",
   "id": "b96ce71a",
   "metadata": {},
   "source": [
    "The following is a list of modules that I used and the reason why they were used:\n",
    "\n",
    "-os: to allow the program to read data in the repository\n",
    "\n",
    "-numpy: basic math operations\n",
    "\n",
    "-pandas: all dataframe operations/data storage/data cleaning\n",
    "\n",
    "-various sklearn: all machine learning operations/analysis\n",
    "\n",
    "In addition to these modules, I also have a custom module that contains helper functions that help in data cleaning/accuracy evaluation. These functions are contained in the \"my_module.py\" file in the repository. If you are interested in taking a look at these functions, they are available at https://github.com/chrisberry888/FantasyHockeyAnalyzer in the \"my_module.py\" file."
   ]
  },
  {
   "cell_type": "code",
   "execution_count": 2,
   "id": "e41adee7",
   "metadata": {},
   "outputs": [],
   "source": [
    "#Import block\n",
    "import os\n",
    "import numpy as np\n",
    "import pandas as pd\n",
    "from sklearn.neural_network import MLPRegressor\n",
    "from sklearn.ensemble import RandomForestRegressor\n",
    "from sklearn.datasets import make_regression\n",
    "from sklearn.model_selection import train_test_split\n",
    "from sklearn.metrics import mean_absolute_error\n",
    "from sklearn.base import clone\n",
    "import my_module_v2 as mx\n",
    "\n",
    "pd.set_option('display.max_columns', None)"
   ]
  },
  {
   "cell_type": "markdown",
   "id": "e6558f59",
   "metadata": {},
   "source": [
    "Section 2: Data Gathering and Cleaning\n",
    "\n",
    "This section compiles the Moneypuck and Rotowire data into a format that is usable by the ML models.\n",
    "\n",
    "There is some discrepencies between stats on ESPN and on moneypuck. These shouldn't alter the fantasy points too much. For example, Sydney Crosby is short-changed 1 faceoff win but has one additional hit in moneypuck than on ESPN, so in my model he has 0.10 more points than he does on ESPN. I would like to see why this is the case in the future/get fully accurate data (perhaps from ESPN themselves), but for now I am ok with this very small error."
   ]
  },
  {
   "cell_type": "code",
   "execution_count": 3,
   "id": "70545006",
   "metadata": {},
   "outputs": [],
   "source": [
    "yearly_player_data = []\n",
    "\n",
    "for year in range(2010, current_year):\n",
    "    moneypuck_data = mx.get_moneypuck_data(year)\n",
    "    rotowire_data = mx.get_rotowire_data(year)\n",
    "    combined_data = mx.combine_dataframes(moneypuck_data, rotowire_data)\n",
    "    final_df = mx.calculate_fantasy_points(combined_data, points_dictionary)\n",
    "    \n",
    "    yearly_player_data.append(final_df)\n",
    "\n",
    "    "
   ]
  },
  {
   "cell_type": "markdown",
   "id": "83b77a46",
   "metadata": {},
   "source": [
    "This next cell compiles the yearly data into chunks of one, two, and three-year data to be used by the ML models."
   ]
  },
  {
   "cell_type": "code",
   "execution_count": null,
   "id": "b29f48bf",
   "metadata": {},
   "outputs": [
    {
     "data": {
      "text/plain": [
       "playerId               8482634\n",
       "season                    2021\n",
       "name              Alex Steeves\n",
       "team                       TOR\n",
       "position                     C\n",
       "                      ...     \n",
       "PP_Goals_2                   0\n",
       "PP_Assists_2                 0\n",
       "SH_Goals_2                   0\n",
       "SH_Assists_2                 0\n",
       "Fantasy_Points           22.75\n",
       "Name: 3930, Length: 2240, dtype: object"
      ]
     },
     "metadata": {},
     "output_type": "display_data"
    },
    {
     "name": "stdout",
     "output_type": "stream",
     "text": [
      "3940\n"
     ]
    }
   ],
   "source": [
    "ml_data_one_year = mx.get_ml_data(yearly_player_data, current_year, 1)\n",
    "ml_data_two_years = mx.get_ml_data(yearly_player_data, current_year, 2)\n",
    "ml_data_three_years = mx.get_ml_data(yearly_player_data, current_year, 3)"
   ]
  }
 ],
 "metadata": {
  "kernelspec": {
   "display_name": "My Pipenv Kernel",
   "language": "python",
   "name": "my_pipenv_kernel"
  },
  "language_info": {
   "codemirror_mode": {
    "name": "ipython",
    "version": 3
   },
   "file_extension": ".py",
   "mimetype": "text/x-python",
   "name": "python",
   "nbconvert_exporter": "python",
   "pygments_lexer": "ipython3",
   "version": "3.13.7"
  }
 },
 "nbformat": 4,
 "nbformat_minor": 5
}
