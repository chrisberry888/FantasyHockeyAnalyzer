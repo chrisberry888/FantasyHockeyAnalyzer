{
 "cells": [
  {
   "cell_type": "markdown",
   "id": "d0c502d2",
   "metadata": {},
   "source": [
    "This is version 2 of my Fantasy Hockey Analyzer. The purpose of this notebook is to predict the number of fantasy points every hockey player in the league will get based on previous years' performance."
   ]
  },
  {
   "cell_type": "markdown",
   "id": "e0c7479c",
   "metadata": {},
   "source": [
    "This notebook primarily uses data from moneypuck.com for analysis, and it also uses data from rotowire.com to get +/- for each player."
   ]
  },
  {
   "cell_type": "markdown",
   "id": "086e2128",
   "metadata": {},
   "source": [
    "Section 1: Parameters and Modules\n",
    "\n",
    "These are the variables that can be adjusted. My model is an ensemble model consisting of neural nets and random forests, with data going back one, two, and three years."
   ]
  },
  {
   "cell_type": "code",
   "execution_count": null,
   "id": "caaf64fa",
   "metadata": {},
   "outputs": [],
   "source": [
    "# Set these values to the appropriate ammonts\n",
    "\n",
    "current_year = 2025\n",
    "common_number = 0\n",
    "number_of_one_year_neural_nets = common_number\n",
    "number_of_two_year_neural_nets = common_number\n",
    "number_of_three_year_neural_nets = common_number\n",
    "number_of_one_year_random_forests = common_number\n",
    "number_of_two_year_random_forests = common_number\n",
    "number_of_three_year_random_forests = common_number\n",
    "\n",
    "# TODO: Make it so that this deletes all models and predictions\n",
    "# Sets whether any models should be deleted and written over\n",
    "create_new_models = True\n",
    "\n",
    "# This is the breakdown of how many fantasy points a player gets for each category\n",
    "points_dictionary = {\n",
    "    'Goals':5, \n",
    "    'Assists':3, \n",
    "    '+/-':1.5, \n",
    "    'PIM':-0.25, \n",
    "    'PP_Goals':4, \n",
    "    'PP_Assists':2, \n",
    "    'SH_Goals':6, #won't count SHG from 5-on-3\n",
    "    'SH_Assists':4, \n",
    "    'Faceoffs_Won':0.25, \n",
    "    'Faceoffs_Lost':-0.15, \n",
    "    'Hits':0.5, \n",
    "    'Blocked_Shots':0.75\n",
    "    }"
   ]
  },
  {
   "cell_type": "markdown",
   "id": "b96ce71a",
   "metadata": {},
   "source": [
    "The following is a list of modules that I used and the reason why they were used:\n",
    "\n",
    "-os: to allow the program to read data in the repository\n",
    "\n",
    "-numpy: basic math operations\n",
    "\n",
    "-pandas: all dataframe operations/data storage/data cleaning\n",
    "\n",
    "-various sklearn: all machine learning operations/analysis\n",
    "\n",
    "In addition to these modules, I also have a custom module that contains helper functions that help in data cleaning/accuracy evaluation. These functions are contained in the \"my_module.py\" file in the repository. If you are interested in taking a look at these functions, they are available at https://github.com/chrisberry888/FantasyHockeyAnalyzer in the \"my_module.py\" file."
   ]
  },
  {
   "cell_type": "code",
   "execution_count": 2,
   "id": "e41adee7",
   "metadata": {},
   "outputs": [],
   "source": [
    "#Import block\n",
    "import os\n",
    "import numpy as np\n",
    "import pandas as pd\n",
    "from sklearn.neural_network import MLPRegressor\n",
    "from sklearn.ensemble import RandomForestRegressor\n",
    "from sklearn.datasets import make_regression\n",
    "from sklearn.model_selection import train_test_split\n",
    "from sklearn.metrics import mean_absolute_error\n",
    "from sklearn.base import clone\n",
    "import joblib\n",
    "import my_module_v2 as mx\n",
    "\n",
    "pd.set_option('display.max_columns', None)\n",
    "pd.set_option('display.max_rows', None) "
   ]
  },
  {
   "cell_type": "markdown",
   "id": "e6558f59",
   "metadata": {},
   "source": [
    "Section 2: Data Gathering and Cleaning\n",
    "\n",
    "This section compiles the Moneypuck and Rotowire data into a format that is usable by the ML models.\n",
    "\n",
    "There is some discrepencies between stats on ESPN and on moneypuck. These shouldn't alter the fantasy points too much. For example, Sydney Crosby is short-changed 1 faceoff win but has one additional hit in moneypuck than on ESPN, so in my model he has 0.10 more points than he does on ESPN. I would like to see why this is the case in the future/get fully accurate data (perhaps from ESPN themselves), but for now I am ok with this very small error."
   ]
  },
  {
   "cell_type": "code",
   "execution_count": 3,
   "id": "70545006",
   "metadata": {},
   "outputs": [],
   "source": [
    "yearly_player_data = []\n",
    "\n",
    "for year in range(2010, current_year):\n",
    "    moneypuck_data = mx.get_moneypuck_data(year)\n",
    "    rotowire_data = mx.get_rotowire_data(year)\n",
    "    combined_data = mx.combine_dataframes(moneypuck_data, rotowire_data)\n",
    "    this_years_data = mx.calculate_fantasy_points(combined_data, points_dictionary)\n",
    "    yearly_player_data.append(this_years_data)\n",
    "\n",
    "    "
   ]
  },
  {
   "cell_type": "code",
   "execution_count": 4,
   "id": "240cfd97",
   "metadata": {},
   "outputs": [],
   "source": [
    "player_id_table = mx.get_player_id_table(yearly_player_data)"
   ]
  },
  {
   "cell_type": "markdown",
   "id": "83b77a46",
   "metadata": {},
   "source": [
    "This next cell compiles the yearly data into chunks of one, two, and three-year data to be used by the ML models."
   ]
  },
  {
   "cell_type": "code",
   "execution_count": 5,
   "id": "b29f48bf",
   "metadata": {},
   "outputs": [
    {
     "name": "stderr",
     "output_type": "stream",
     "text": [
      "/home/chris/Git_Repositories/FantasyHockeyAnalyzer/my_module_v2.py:201: FutureWarning: Downcasting object dtype arrays on .fillna, .ffill, .bfill is deprecated and will change in a future version. Call result.infer_objects(copy=False) instead. To opt-in to the future behavior, set `pd.set_option('future.no_silent_downcasting', True)`\n",
      "  df = df.fillna(False)\n",
      "/home/chris/Git_Repositories/FantasyHockeyAnalyzer/my_module_v2.py:201: FutureWarning: Downcasting object dtype arrays on .fillna, .ffill, .bfill is deprecated and will change in a future version. Call result.infer_objects(copy=False) instead. To opt-in to the future behavior, set `pd.set_option('future.no_silent_downcasting', True)`\n",
      "  df = df.fillna(False)\n",
      "/home/chris/Git_Repositories/FantasyHockeyAnalyzer/my_module_v2.py:201: FutureWarning: Downcasting object dtype arrays on .fillna, .ffill, .bfill is deprecated and will change in a future version. Call result.infer_objects(copy=False) instead. To opt-in to the future behavior, set `pd.set_option('future.no_silent_downcasting', True)`\n",
      "  df = df.fillna(False)\n"
     ]
    }
   ],
   "source": [
    "ml_data_one_year = mx.get_ml_data(yearly_player_data, current_year, 1)\n",
    "ml_data_two_years = mx.get_ml_data(yearly_player_data, current_year, 2)\n",
    "ml_data_three_years = mx.get_ml_data(yearly_player_data, current_year, 3)"
   ]
  },
  {
   "cell_type": "markdown",
   "id": "cd09df40",
   "metadata": {},
   "source": [
    "The data is now ready to be used to train the ML model."
   ]
  },
  {
   "cell_type": "code",
   "execution_count": 6,
   "id": "f3c1fd5f",
   "metadata": {},
   "outputs": [],
   "source": [
    "\n",
    "one_year_X, one_year_y = mx.separate_fantasy_points(ml_data_one_year)\n",
    "two_year_X, two_year_y = mx.separate_fantasy_points(ml_data_two_years)\n",
    "three_year_X, three_year_y = mx.separate_fantasy_points(ml_data_three_years)"
   ]
  },
  {
   "cell_type": "code",
   "execution_count": 7,
   "id": "50f9a5ec",
   "metadata": {},
   "outputs": [],
   "source": [
    "one_year_neural_net_args = (\n",
    "    one_year_X,\n",
    "    one_year_y,\n",
    "    MLPRegressor(max_iter=1000),\n",
    "    2, #number_of_one_year_neural_nets,\n",
    "    '/1_year/neural_nets'\n",
    ")\n",
    "\n",
    "one_year_random_forest_args = (\n",
    "    one_year_X,\n",
    "    one_year_y,\n",
    "    RandomForestRegressor(),\n",
    "    1, #number_of_one_year_random_forests,\n",
    "\t'/1_year/random_forests'\n",
    ")\n",
    "\n",
    "two_year_neural_net_args = (\n",
    "    two_year_X,\n",
    "    two_year_y,\n",
    "    MLPRegressor(max_iter=1000),\n",
    "    number_of_two_year_neural_nets,\n",
    "\t'/2_year/neural_nets'\n",
    ")\n",
    "\n",
    "two_year_random_forest_args = (\n",
    "    two_year_X,\n",
    "    two_year_y,\n",
    "    RandomForestRegressor(),\n",
    "    number_of_two_year_random_forests,\n",
    "\t'/2_year/random_forests'\n",
    ")\n",
    "\n",
    "three_year_neural_net_args = (\n",
    "    three_year_X,\n",
    "    three_year_y,\n",
    "    MLPRegressor(max_iter=1000),\n",
    "    1, #number_of_three_year_neural_nets,\n",
    "\t'/3_year/neural_nets'\n",
    ")\n",
    "\n",
    "three_year_random_forest_args = (\n",
    "    three_year_X,\n",
    "    three_year_y,\n",
    "    RandomForestRegressor(),\n",
    "    number_of_three_year_random_forests,\n",
    "\t'/3_year/random_forests'\n",
    ")"
   ]
  },
  {
   "cell_type": "code",
   "execution_count": 8,
   "id": "ba27186b",
   "metadata": {},
   "outputs": [],
   "source": [
    "\n",
    "if create_new_models:\n",
    "    mx.create_models(*one_year_neural_net_args)\n",
    "    mx.create_models(*one_year_random_forest_args)\n",
    "    mx.create_models(*two_year_neural_net_args)\n",
    "    mx.create_models(*two_year_random_forest_args)\n",
    "    mx.create_models(*three_year_neural_net_args)\n",
    "    mx.create_models(*three_year_random_forest_args)\n",
    "    \n"
   ]
  },
  {
   "cell_type": "markdown",
   "id": "20eb671a",
   "metadata": {},
   "source": [
    "Now we generate the table with final predictions."
   ]
  },
  {
   "cell_type": "code",
   "execution_count": 9,
   "id": "e1941466",
   "metadata": {},
   "outputs": [],
   "source": [
    "current_one_year_X = mx.get_final_year_data(yearly_player_data, 1)\n",
    "current_two_year_X = mx.get_final_year_data(yearly_player_data, 2)\n",
    "current_three_year_X = mx.get_final_year_data(yearly_player_data, 3)"
   ]
  },
  {
   "cell_type": "code",
   "execution_count": 10,
   "id": "41ba8cf1",
   "metadata": {},
   "outputs": [],
   "source": [
    "path = os.getcwd() + '/models/1_year/neural_nets/model_0.joblib'\n",
    "model = joblib.load(path)\n",
    "table = mx.get_prediction_table([model], current_one_year_X, player_id_table)"
   ]
  },
  {
   "cell_type": "code",
   "execution_count": 11,
   "id": "f7f66599",
   "metadata": {},
   "outputs": [],
   "source": [
    "final_table_inputs = (\n",
    "    (\n",
    "        current_one_year_X,\n",
    "        current_two_year_X,\n",
    "        current_three_year_X\n",
    "    ),\n",
    "    player_id_table\n",
    ")\n",
    "mx.generate_predictions(*final_table_inputs)"
   ]
  },
  {
   "cell_type": "code",
   "execution_count": 12,
   "id": "56c7be68",
   "metadata": {},
   "outputs": [],
   "source": [
    "mx.generate_final_table()"
   ]
  },
  {
   "cell_type": "code",
   "execution_count": 13,
   "id": "d10db5a0",
   "metadata": {},
   "outputs": [
    {
     "data": {
      "text/html": [
       "<div>\n",
       "<style scoped>\n",
       "    .dataframe tbody tr th:only-of-type {\n",
       "        vertical-align: middle;\n",
       "    }\n",
       "\n",
       "    .dataframe tbody tr th {\n",
       "        vertical-align: top;\n",
       "    }\n",
       "\n",
       "    .dataframe thead th {\n",
       "        text-align: right;\n",
       "    }\n",
       "</style>\n",
       "<table border=\"1\" class=\"dataframe\">\n",
       "  <thead>\n",
       "    <tr style=\"text-align: right;\">\n",
       "      <th></th>\n",
       "      <th>playerId</th>\n",
       "      <th>name</th>\n",
       "      <th>prediction</th>\n",
       "    </tr>\n",
       "  </thead>\n",
       "  <tbody>\n",
       "    <tr>\n",
       "      <th>0</th>\n",
       "      <td>8477492</td>\n",
       "      <td>Nathan MacKinnon_COL_2024_C</td>\n",
       "      <td>464.457689</td>\n",
       "    </tr>\n",
       "    <tr>\n",
       "      <th>1</th>\n",
       "      <td>8478402</td>\n",
       "      <td>Connor McDavid_EDM_2024_C</td>\n",
       "      <td>340.885971</td>\n",
       "    </tr>\n",
       "    <tr>\n",
       "      <th>2</th>\n",
       "      <td>8476389</td>\n",
       "      <td>Vincent Trocheck_NYR_2024_C</td>\n",
       "      <td>330.951733</td>\n",
       "    </tr>\n",
       "    <tr>\n",
       "      <th>3</th>\n",
       "      <td>8477946</td>\n",
       "      <td>Dylan Larkin_DET_2024_C</td>\n",
       "      <td>328.735544</td>\n",
       "    </tr>\n",
       "    <tr>\n",
       "      <th>4</th>\n",
       "      <td>8477956</td>\n",
       "      <td>David Pastrnak_BOS_2024_R</td>\n",
       "      <td>316.688152</td>\n",
       "    </tr>\n",
       "  </tbody>\n",
       "</table>\n",
       "</div>"
      ],
      "text/plain": [
       "   playerId                         name  prediction\n",
       "0   8477492  Nathan MacKinnon_COL_2024_C  464.457689\n",
       "1   8478402    Connor McDavid_EDM_2024_C  340.885971\n",
       "2   8476389  Vincent Trocheck_NYR_2024_C  330.951733\n",
       "3   8477946      Dylan Larkin_DET_2024_C  328.735544\n",
       "4   8477956    David Pastrnak_BOS_2024_R  316.688152"
      ]
     },
     "execution_count": 13,
     "metadata": {},
     "output_type": "execute_result"
    }
   ],
   "source": [
    "mx.get_final_table().head()"
   ]
  }
 ],
 "metadata": {
  "kernelspec": {
   "display_name": "My Pipenv Kernel",
   "language": "python",
   "name": "my_pipenv_kernel"
  },
  "language_info": {
   "codemirror_mode": {
    "name": "ipython",
    "version": 3
   },
   "file_extension": ".py",
   "mimetype": "text/x-python",
   "name": "python",
   "nbconvert_exporter": "python",
   "pygments_lexer": "ipython3",
   "version": "3.13.7"
  }
 },
 "nbformat": 4,
 "nbformat_minor": 5
}
