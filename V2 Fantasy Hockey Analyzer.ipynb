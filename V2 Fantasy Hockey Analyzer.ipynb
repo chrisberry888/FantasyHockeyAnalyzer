{
 "cells": [
  {
   "cell_type": "markdown",
   "id": "d0c502d2",
   "metadata": {},
   "source": [
    "This is version 2 of my Fantasy Hockey Analyzer. The purpose of this notebook is to predict the number of fantasy points every hockey player in the league will get based on previous years' performance."
   ]
  },
  {
   "cell_type": "markdown",
   "id": "e0c7479c",
   "metadata": {},
   "source": []
  }
 ],
 "metadata": {
  "language_info": {
   "name": "python"
  }
 },
 "nbformat": 4,
 "nbformat_minor": 5
}
