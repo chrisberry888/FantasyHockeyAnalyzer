{
 "cells": [
  {
   "cell_type": "markdown",
   "id": "d0c502d2",
   "metadata": {},
   "source": [
    "This is version 2 of my Fantasy Hockey Analyzer. The purpose of this notebook is to predict the number of fantasy points every hockey player in the league will get based on previous years' performance."
   ]
  },
  {
   "cell_type": "markdown",
   "id": "e0c7479c",
   "metadata": {},
   "source": [
    "This notebook primarily uses data from moneypuck.com for analysis, and it also uses data from rotowire.com to get +/- for each player."
   ]
  },
  {
   "cell_type": "markdown",
   "id": "086e2128",
   "metadata": {},
   "source": [
    "Section 1: Parameters and Modules\n",
    "\n",
    "These are the variables that can be adjusted. My model is an ensemble model consisting of neural nets and random forests, with data going back one, two, and three years."
   ]
  },
  {
   "cell_type": "code",
   "execution_count": null,
   "id": "caaf64fa",
   "metadata": {},
   "outputs": [],
   "source": [
    "current_year = 2025\n",
    "number_of_one_year_neural_nets = 100\n",
    "number_of_two_year_neural_nets = 100\n",
    "number_of_three_year_neural_nets = 100\n",
    "number_of_one_year_random_forests = 100\n",
    "number_of_two_year_random_forests = 100\n",
    "number_of_three_year_random_forests = 100"
   ]
  },
  {
   "cell_type": "markdown",
   "id": "b96ce71a",
   "metadata": {},
   "source": [
    "The following is a list of modules that I used and the reason why they were used:\n",
    "\n",
    "-os: to allow the program to read data in the repository\n",
    "\n",
    "-numpy: basic math operations\n",
    "\n",
    "-pandas: all dataframe operations/data storage/data cleaning\n",
    "\n",
    "-various sklearn: all machine learning operations/analysis\n",
    "\n",
    "In addition to these modules, I also have a custom module that contains helper functions that help in data cleaning/accuracy evaluation. These functions are contained in the \"my_module.py\" file in the repository. If you are interested in taking a look at these functions, they are available at https://github.com/chrisberry888/FantasyHockeyAnalyzer in the \"my_module.py\" file."
   ]
  },
  {
   "cell_type": "code",
   "execution_count": null,
   "id": "e41adee7",
   "metadata": {},
   "outputs": [],
   "source": [
    "#Import block\n",
    "import os\n",
    "import numpy as np\n",
    "import pandas as pd\n",
    "from sklearn.neural_network import MLPRegressor\n",
    "from sklearn.ensemble import RandomForestRegressor\n",
    "from sklearn.datasets import make_regression\n",
    "from sklearn.model_selection import train_test_split\n",
    "from sklearn.metrics import mean_absolute_error\n",
    "from sklearn.base import clone\n",
    "\n",
    "import my_module as mx"
   ]
  }
 ],
 "metadata": {
  "kernelspec": {
   "display_name": "My Pipenv Kernel",
   "language": "python",
   "name": "my_pipenv_kernel"
  },
  "language_info": {
   "name": "python",
   "version": "3.13.7"
  }
 },
 "nbformat": 4,
 "nbformat_minor": 5
}
